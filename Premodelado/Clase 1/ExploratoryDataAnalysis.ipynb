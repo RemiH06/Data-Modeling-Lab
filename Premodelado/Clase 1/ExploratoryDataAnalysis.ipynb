{
 "cells": [
  {
   "cell_type": "markdown",
   "metadata": {},
   "source": [
    "___\n",
    "<img style=\"float: right; margin: 0px 0px 15px 15px;\" src=\"https://www.researchgate.net/publication/329930775/figure/fig3/AS:873046667710469@1585161954284/The-fundamental-steps-of-the-exploratory-data-analysis-process.png\" width=\"350px\" height=\"180px\" />\n",
    "\n",
    "\n",
    "# <font color= #8A0829> Laboratorio de Modelado de Datos </font>\n",
    "#### <font color= #2E9AFE> `Martes y Viernes (Videoconferencia) de 13:00 - 15:00 hrs`</font>\n",
    "- <Strong> Sara Eugenia Rodríguez </Strong>\n",
    "- <Strong> Año </Strong>: 2025\n",
    "- <Strong> Email: </Strong>  <font color=\"blue\"> `cd682324@iteso.mx` </font>\n",
    "___\n",
    "\n",
    "<p style=\"text-align:right;\"> Imagen recuperada de: https://www.researchgate.net/publication/329930775/figure/fig3/AS:873046667710469@1585161954284/The-fundamental-steps-of-the-exploratory-data-analysis-process.png</p>\n",
    "\n",
    "## <font color= #2E9AFE> Tema: Procesamiento y Análisis Exploratorio de Datos</font>"
   ]
  },
  {
   "cell_type": "markdown",
   "metadata": {},
   "source": [
    "#### Proyecto: Detección de fraudes en un banco\n",
    "Los datos se pueden encontrar en Kaggle:\n",
    "https://www.kaggle.com/datasets/parisrohan/credit-score-classification/data\n",
    "\n",
    "Trabajas como científico de datos en una empresa financiera. A lo largo de los años, la empresa ha recopilado datos bancarios básicos y mucha información crediticia. La gerencia quiere desarrollar un sistema inteligente para clasificar a las personas según su calificación crediticia y así reducir el trabajo manual.\n",
    "\n",
    "\n",
    "  1. Id: identificador único del dato\n",
    "  2. Customer_ID: identificador único del cliente\n",
    "  3. Month: mes\n",
    "  4. Name: nombre del cliente\n",
    "  5. Age: edad\n",
    "  6. SSN: numero de seguro social\n",
    "  7. Occupation: ocupación laboral del cliente\n",
    "  8. Annual_Income: Ingreso anual\n",
    "  9. Monthly_Inhand_Salary: salario base mensual del cliente\n",
    "  10. Num_Bank_Accounts: número de cuentas bancarias que el cliente tiene\n",
    "  11. Num_Credit_Card: numero de tarjetas de crédito que el cliente tiene\n",
    "  12. Interest_Rate: tasa de interés en la tarjeta de crédito\n",
    "  13. Num_of_Loan: número de préstamos que el cliente tiene con el banco\n",
    "  14. Type_of_Loan: tipo de préstamo\n",
    "  15. Delay_from_due_date: promedio de días en que el cliente se ha retrasado en su pago\n",
    "  16. Num_of_Delayed_Payment: promedio de pagos retrasados por cliente\n",
    "  17. Changed_Credit_Limit: numero de veces que el cliente ha cambiado el limite de su tarjeta\n",
    "  18. Credit_Mix: calificación de la mezcla de créditos\n",
    "  19. Outstanding_Debt: restante de deuda a pagar en USD\n",
    "  20. Credit_Utilization_Ratio: tasa de uso de las tarjetas de crédito\n",
    "  21. Credit_history_Age: Representa la edad del historial crediticio de la persona.\n",
    "  22. Payment_of_Min_Amount: Representa si la persona solo pagó el monto mínimo\n",
    "  23. Total_EMI_per_month: pagos mensuales de EMI (en USD)\n",
    "  24. Amount_invested_monthly: el monto mensual invertido por el cliente (en USD)\n",
    "  25. Payment_Behaviour: el comportamiento de pago del cliente (en USD)\n",
    "  26. Monthly_Balance: el saldo mensual del cliente (en USD)\n",
    "  27. Credit_Score: el nivel de puntuación crediticia (Malo, Estándar, Bueno)\n",
    "\n",
    "<img style=\"float: right; margin: 0px 0px 15px 15px;\" src=\"https://upload.wikimedia.org/wikipedia/commons/thumb/f/f4/Kaggle_Logo.svg/330px-Kaggle_Logo.svg.png\" width=\"350px\" height=\"180px\" />\n",
    "\n"
   ]
  },
  {
   "cell_type": "markdown",
   "metadata": {},
   "source": [
    "1. **Cuál sería nuestro target a enfocarnos?**\n",
    "\n",
    "\n",
    "2. **Ahora que tenemos claro cuál es nuestro target, qué nos gustaría ver en los datos sobre patrones que nos expliquen este target?**"
   ]
  },
  {
   "cell_type": "markdown",
   "metadata": {},
   "source": [
    "## Definición del objetivo del negocio\n",
    "\n",
    "El principal objetivo del negocio es mejorar el proceso de evaluación crediticia mediante la predicción precisa de las puntuaciones crediticias individuales con base en los datos de los clientes. Al aprovechar características como los ingresos, el uso de tarjetas de crédito, el historial de préstamos y el comportamiento de pago, el objetivo es:\n",
    "\n",
    "1. Mejorar la gestión del riesgo crediticio: Mejorar la precisión de la clasificación de la puntuación crediticia para evaluar mejor la solvencia de los clientes, minimizando el riesgo de impagos y morosidad.\n",
    "\n",
    "2. Personalizar las recomendaciones de productos financieros: Utilizar las puntuaciones crediticias previstas para ofrecer productos financieros a medida, como préstamos, tarjetas de crédito y seguros, según los perfiles financieros individuales.\n",
    "\n",
    "3. Optimizar los procesos de aprobación de préstamos: Agilizar el sistema de aprobación de préstamos automatizando las predicciones de la puntuación crediticia, lo que permite tomar decisiones más rápidas y eficientes.\n",
    "\n",
    "4. Incrementar la satisfacción del cliente: Ofrecer a los clientes asesoramiento financiero personalizado y recomendaciones de productos, mejorando la interacción y la confianza en las ofertas."
   ]
  },
  {
   "cell_type": "markdown",
   "metadata": {},
   "source": [
    "### Librerías\n",
    "\n",
    "\n",
    "Las librerías son un conjunto de módulos y paquetes donde muchas de las operaciones más comúnes de la programación diaria ya están implementadas en ellas, de modo que podemos concentrarnos en lo que realmente nos ocupa. "
   ]
  },
  {
   "cell_type": "code",
   "execution_count": null,
   "metadata": {},
   "outputs": [],
   "source": [
    "#pip install pandas"
   ]
  },
  {
   "cell_type": "code",
   "execution_count": null,
   "metadata": {},
   "outputs": [],
   "source": [
    "#Importar Librerías\n",
    "import numpy as np #para trabajar con arreglos numéricos\n",
    "import pandas as pd #para trabajar con dataframes\n",
    "import matplotlib.pyplot as plt #visualizaciones\n",
    "import seaborn as sns #visualizaciones\n",
    "from sklearn import preprocessing #librería de machine learning en python\n",
    "import plotly.express as px #visualizaciones\n",
    "import plotly.graph_objects as go #visualizaciones\n",
    "from plotly.subplots import make_subplots\n",
    "from scipy.stats import gaussian_kde\n",
    "import plotly.express as px\n",
    "import plotly.graph_objects as go\n",
    "pd.set_option('display.max_columns', None)"
   ]
  },
  {
   "cell_type": "markdown",
   "metadata": {},
   "source": [
    "Más información sobre qué es una librería:\n",
    "\n",
    "https://immune.institute/blog/librerias-python-que-son/\n",
    "\n",
    "# Exploración de datos\n",
    "\n",
    "## Recopilación de datos"
   ]
  },
  {
   "cell_type": "code",
   "execution_count": null,
   "metadata": {},
   "outputs": [],
   "source": [
    "bank_df = pd.read_csv('dataset_v1.csv')"
   ]
  },
  {
   "cell_type": "markdown",
   "metadata": {},
   "source": [
    "## Limpieza de datos\n",
    "\n",
    "... Tarea 1"
   ]
  },
  {
   "cell_type": "markdown",
   "metadata": {},
   "source": [
    "### Entendiendo nuestras variables"
   ]
  },
  {
   "cell_type": "code",
   "execution_count": null,
   "metadata": {},
   "outputs": [],
   "source": [
    "# Con cuantos datos contamos\n",
    "print(f'No. de Filas {bank_df.shape[0]}')\n",
    "print(f'No. de columnas {bank_df.shape[1]}')"
   ]
  },
  {
   "cell_type": "code",
   "execution_count": null,
   "metadata": {},
   "outputs": [],
   "source": [
    "#Vistazo de datos\n",
    "bank_df.head()"
   ]
  },
  {
   "cell_type": "code",
   "execution_count": null,
   "metadata": {},
   "outputs": [],
   "source": [
    "#Información de los datos (datos faltantes, tipos de datos)\n",
    "bank_df.info()"
   ]
  },
  {
   "cell_type": "markdown",
   "metadata": {},
   "source": [
    "Todo bien! no hay valores nulos"
   ]
  },
  {
   "cell_type": "code",
   "execution_count": null,
   "metadata": {},
   "outputs": [],
   "source": [
    "#Estadistica descriptiva\n",
    "bank_df.describe(include=\"all\")"
   ]
  },
  {
   "cell_type": "markdown",
   "metadata": {},
   "source": [
    "### Transformación de datos\n",
    "\n",
    "**Qué manipulación de datos podemos hacer?**\n",
    "\n",
    "\n",
    "1. Columnas Irrelevantes Eliminadas: Se eliminaron columnas innecesarias, como identificadores de clientes y atributos no relacionados, para centrarse en características financieras y de comportamiento relevantes.\n",
    "\n",
    "2. Eliminación de Valores Atípicos: Se filtraron los valores extremos en la columna Ingresos Anuales mediante el método de Rango Intercuartil (RIC). Este paso garantiza que los valores atípicos no sesguen el análisis.\n",
    "\n",
    "3. Valores Faltantes Gestionados: Se completaron las entradas faltantes en la columna Ingresos Anuales con el valor medio para mantener la integridad del conjunto de datos y garantizar que todos los registros contengan datos de ingresos válidos.\n",
    "\n",
    "4. Conversión de Tipo de Datos: Se convirtió la columna Saldo Mensual a un tipo numérico, lo que garantiza la precisión de los cálculos que involucran esta columna.\n",
    "\n",
    "5. Ratio Deuda-Ingresos Calculado: Se introdujo una nueva métrica, Ratio Deuda-Ingresos, que muestra la proporción de los ingresos de un cliente que se destina al pago de deudas. Esta es una medida importante de solvencia.\n",
    "\n",
    "6. Nivel de ingresos creado: se clasificaron los ingresos anuales de los clientes en tres niveles (bajo, medio, alto) para facilitar la segmentación y el análisis específico.\n"
   ]
  },
  {
   "cell_type": "code",
   "execution_count": null,
   "metadata": {},
   "outputs": [],
   "source": [
    "bank_df.drop(['Customer_ID','Name','SSN','Month','Payment_of_Min_Amount','ID'],axis = 1, inplace = True)\n",
    "Q1 = bank_df['Annual_Income'].quantile(0.25)\n",
    "Q3 = bank_df['Annual_Income'].quantile(0.75)\n",
    "IQR = Q3 - Q1\n",
    "bank_df = bank_df[(bank_df['Annual_Income'] >= (Q1 - 1.5 * IQR)) & (bank_df['Annual_Income'] <= (Q3 + 1.5 * IQR))]\n",
    "bank_df['Annual_Income'].fillna(bank_df['Annual_Income'].mean(), inplace=True)\n",
    "bank_df['Monthly_Balance'] = pd.to_numeric(bank_df['Monthly_Balance'], errors='coerce')\n",
    "bank_df['Debt_to_Income_Ratio'] = bank_df['Outstanding_Debt'] / bank_df['Annual_Income']\n",
    "bank_df['Income_Bracket'] = pd.cut(bank_df['Annual_Income'], bins=[0, 20000, 50000, 100000], labels=['Low', 'Medium', 'High'])"
   ]
  },
  {
   "cell_type": "markdown",
   "metadata": {},
   "source": [
    "**Porqué nos sirven estas transformaciones?**\n",
    "\n",
    "1. Gestión de valores atípicos: La eliminación de valores atípicos permite una representación más precisa de los ingresos de los clientes, lo que genera información más fiable.\n",
    "\n",
    "2. Ratio de deuda a ingresos: Esta nueva métrica proporciona una comprensión más clara de la salud financiera de los clientes, indicando posibles riesgos crediticios.\n",
    "\n",
    "3. Segmentación de ingresos: La creación de tramos de ingresos permite un análisis específico, lo que facilita la adaptación de las recomendaciones de productos financieros según los niveles de ingresos.\n",
    "\n",
    "4. Mejora de la calidad de los datos: La corrección de los valores faltantes y la garantía de los tipos de datos adecuados mejoran la fiabilidad del conjunto de datos para la predicción de atributos financieros."
   ]
  },
  {
   "cell_type": "markdown",
   "metadata": {},
   "source": [
    "## Análisis Univariado"
   ]
  },
  {
   "cell_type": "markdown",
   "metadata": {},
   "source": [
    "### Análisis de la variable objetivo\n",
    "\n",
    "**Qué tipo de dato es nuestra variable objetivo \"credit score\"**"
   ]
  },
  {
   "cell_type": "code",
   "execution_count": null,
   "metadata": {},
   "outputs": [],
   "source": [
    "# Distribución de nuestra variable objetivo --> credit score\n",
    "\n",
    "color_map = {\n",
    "    'Poor': '#0066ff',\n",
    "    'Standard': '#000000',\n",
    "    'Good': '#00FFFF'\n",
    "}\n",
    "\n",
    "fig = px.histogram(\n",
    "    bank_df,\n",
    "    x='Credit_Score',\n",
    "    color='Credit_Score',\n",
    "    color_discrete_map=color_map,\n",
    "    title='Credit Score Distribution',\n",
    ")\n",
    "\n",
    "fig.update_layout(\n",
    "    title={\n",
    "        'text': 'Distribucion del score crediticio<br>',\n",
    "        'x': 0.5,\n",
    "        'xanchor': 'center'\n",
    "    },\n",
    "    xaxis_title='Credit Score',\n",
    "    yaxis_title='Count',\n",
    "    bargap=0.2,\n",
    "    plot_bgcolor='white',\n",
    "    showlegend=False,\n",
    "    height=600,\n",
    "    width=1000\n",
    ")\n",
    "\n",
    "\n",
    "fig.show()\n"
   ]
  },
  {
   "cell_type": "markdown",
   "metadata": {},
   "source": [
    "**Qué observamos?**\n",
    "\n",
    "La categoría de puntuación crediticia Estándar presenta la mayor cantidad de personas, lo que indica que la mayoría se encuentra en este rango medio. En contraste, la categoría de puntuación crediticia Buena presenta una menor cantidad de personas, mientras que la categoría Deficiente tiene la menor cantidad de personas. \n",
    "\n",
    "Esta distribución sugiere oportunidades para que el banco:\n",
    "- Ofrezca educación financiera y productos orientados a mejorar la calificación crediticia, especialmente para quienes se encuentran en la categoría Estándar.\n",
    "- Desarrolle servicios personalizados, como préstamos para recursos educativos, podría ayudar a los clientes a lograr una buena calificación crediticia.\n"
   ]
  },
  {
   "cell_type": "code",
   "execution_count": null,
   "metadata": {},
   "outputs": [],
   "source": [
    "#Demografia de edad\n",
    "\n",
    "fig,ax = plt.subplots(1,1,figsize = (18,10))\n",
    "\n",
    "sns.histplot(x = 'Age' , data = bank_df , ax = ax ,kde = True, bins = 10, color = '#0066FF')\n",
    "plt.tight_layout()\n",
    "plt.show()"
   ]
  },
  {
   "cell_type": "code",
   "execution_count": null,
   "metadata": {},
   "outputs": [],
   "source": [
    "#Distribucion de los ingresos\n",
    "\n",
    "fig = make_subplots(\n",
    "    rows=1, cols=2,\n",
    "    subplot_titles=(\"Distribucion del ingreso anual\", \"Distribucion del Salario mensual\"),\n",
    "    horizontal_spacing=0.1\n",
    ")\n",
    "\n",
    "variables = ['Annual_Income', 'Monthly_Inhand_Salary']\n",
    "titles = ['ingreso anual', 'Salario mensual']\n",
    "colors = ['#0066ff', '#0066ff']\n",
    "\n",
    "for i, var in enumerate(variables):\n",
    "    x_data = bank_df[var].dropna()\n",
    "\n",
    "    fig.add_trace(\n",
    "        go.Histogram(\n",
    "            x=x_data,\n",
    "            name=titles[i],\n",
    "            marker_color=colors[i],\n",
    "            opacity=0.6,\n",
    "            nbinsx=30,\n",
    "            histnorm='density',\n",
    "            showlegend=False\n",
    "        ),\n",
    "        row=1, col=i+1\n",
    "    )\n",
    "    kde = gaussian_kde(x_data)\n",
    "    x_range = np.linspace(x_data.min(), x_data.max(), 200)\n",
    "    y_kde = kde(x_range)\n",
    "\n",
    "    fig.add_trace(\n",
    "        go.Scatter(\n",
    "            x=x_range,\n",
    "            y=y_kde,\n",
    "            mode='lines',\n",
    "            line=dict(color=colors[i], width=2),\n",
    "            name='KDE',\n",
    "            showlegend=False\n",
    "        ),\n",
    "        row=1, col=i+1\n",
    "    )\n",
    "\n",
    "fig.update_layout(\n",
    "    title={\n",
    "        'text': \"Distribucion del ingreso anual y del salario mensual<br>\",\n",
    "        'x': 0.5,\n",
    "        'xanchor': 'center'\n",
    "    },\n",
    "    height=600,\n",
    "    width=1100,\n",
    "    plot_bgcolor='white',\n",
    "    margin=dict(t=100, b=100),\n",
    ")\n",
    "fig.show()\n"
   ]
  },
  {
   "cell_type": "markdown",
   "metadata": {},
   "source": [
    "El gráfico de Distribución de Ingresos Anuales y Salario Mensual  ofrece información sobre la situación financiera de las personas del conjunto de datos.\n",
    "El lado izquierdo del gráfico muestra la distribución de los **Ingresos Anuales**, con un pico prominente alrededor del rango de 15 000 a 25 000, lo que indica que un número significativo de personas gana dentro de este rango.\n",
    "Hay una disminución gradual en la frecuencia a medida que aumentan los ingresos, lo que sugiere una distribución sesgada hacia la derecha.\n",
    "\n",
    "A la derecha, la distribución del **Salario Mensual Disponible** refleja la distribución de los ingresos anuales, pero revela un pico más pronunciado entre 1000 y 2000.\n",
    "Esto indica que la mayoría de las personas tienen un salario mensual que se correlaciona con sus ingresos anuales, lo que enfatiza aún más la tendencia hacia los ingresos más bajos.\n",
    "\n",
    "El análisis sugiere que:\n",
    "- Un gran segmento de la población tiene ingresos modestos, y podría haber oportunidades potenciales para productos financieros dirigidos a personas dentro de este rango de ingresos, especialmente enfocados en la elaboración de presupuestos y el ahorro."
   ]
  },
  {
   "cell_type": "code",
   "execution_count": null,
   "metadata": {},
   "outputs": [],
   "source": [
    "# Distribucion de las tasas de interes\n",
    "fig,ax = plt.subplots(1,1,figsize = (18,10))\n",
    "\n",
    "sns.histplot(x = 'Interest_Rate' , data = bank_df , ax = ax ,kde = True, bins = 30, color = '#0066FF')\n",
    "plt.tight_layout()\n",
    "plt.show()"
   ]
  },
  {
   "cell_type": "markdown",
   "metadata": {},
   "source": [
    "El gráfico representa la distribución de los tipos de interés. Muestra una variabilidad en un amplio rango, con algunos picos notables.\n",
    "Los picos más significativos se producen alrededor de los tipos de interés del 5% y el 20%.\n",
    "\n",
    "Esto sugiere una distribución diversa de los tipos de interés, con concentraciones en puntos específicos."
   ]
  },
  {
   "cell_type": "markdown",
   "metadata": {},
   "source": [
    "## Análisis Bivariado"
   ]
  },
  {
   "cell_type": "code",
   "execution_count": null,
   "metadata": {},
   "outputs": [],
   "source": [
    "#Edad e impacto en el score crediticio\n",
    "\n",
    "fig,ax = plt.subplots(1,1,figsize = (6,3))\n",
    "\n",
    "sns.boxplot(x = 'Credit_Score' , y = 'Age' , data = bank_df , ax = ax)\n",
    "plt.tight_layout()\n",
    "plt.show()"
   ]
  },
  {
   "cell_type": "markdown",
   "metadata": {},
   "source": [
    "Pareciera que las personas con menor edad tienen peor puntuación crediticia; pero si comparamos esta mediana con las demás categorías no hay tanta diferencia de edades. \n",
    "\n",
    "Esto indica que la edad no influye significativamente en las diferencias en las puntuaciones crediticias en este conjunto de datos."
   ]
  },
  {
   "cell_type": "code",
   "execution_count": null,
   "metadata": {},
   "outputs": [],
   "source": [
    "# Ingreso anual e ingreso mensual vs score crediticio\n",
    "fig, (ax1, ax2) = plt.subplots(1, 2, figsize=(18,6))\n",
    "\n",
    "sns.violinplot(x='Credit_Score', y='Annual_Income', data=bank_df, ax=ax1)\n",
    "ax1.set_title('Ingreso anual y score crediticio')\n",
    "ax1.set_ylabel('Ingreso anual')\n",
    "\n",
    "sns.violinplot(x='Credit_Score', y='Monthly_Inhand_Salary', data=bank_df, ax=ax2)\n",
    "ax2.set_title('Salario mensual y score crediticio')\n",
    "ax2.set_ylabel('Salario mensual')"
   ]
  },
  {
   "cell_type": "markdown",
   "metadata": {},
   "source": [
    "La conclusión general es: \n",
    "1. Que unos ingresos más altos se asocian con mejores puntuaciones crediticias\n",
    "2. Que las variables de salario mensual e ingreso anual están demasiado correlacionadas, por lo que después valdría la pena quitar alguna de estas dos variables."
   ]
  },
  {
   "cell_type": "code",
   "execution_count": null,
   "metadata": {},
   "outputs": [],
   "source": [
    "#Relacion entre ingresos y retraso de pagos\n",
    "fig,ax = plt.subplots(1,1,figsize = (10,6))\n",
    "\n",
    "sns.scatterplot(x = 'Annual_Income' , y = 'Delay_from_due_date' , data = bank_df , ax = ax)\n",
    "plt.tight_layout()\n",
    "plt.show()\n"
   ]
  },
  {
   "cell_type": "markdown",
   "metadata": {},
   "source": [
    "Si bien los datos muestran una tendencia general de que las personas con ingresos más bajos son más propensas a sufrir retrasos en los pagos, existen excepciones.\n",
    "\n",
    "Una proporción significativa de personas de todos los niveles de ingresos liquida sus deudas en un plazo de 30 días, lo cual es un indicador positivo de solvencia. Sin embargo, es importante tener en cuenta que pagar puntualmente en un plazo de 30 días no implica necesariamente un incumplimiento.\n",
    "\n",
    "Incumplir un préstamo generalmente implica pagos atrasados repetidos o impagos más allá de un período de gracia específico.\n"
   ]
  },
  {
   "cell_type": "code",
   "execution_count": null,
   "metadata": {},
   "outputs": [],
   "source": [
    "# Relacion entre score crediticio y numero de cuentas bancarias\n",
    "\n",
    "fig,ax = plt.subplots(1,1,figsize = (6,3))\n",
    "\n",
    "sns.boxplot(x = 'Credit_Score' , y = 'Num_Bank_Accounts' , data = bank_df , ax = ax)\n",
    "plt.tight_layout()\n",
    "plt.show()"
   ]
  },
  {
   "cell_type": "markdown",
   "metadata": {},
   "source": [
    "Las personas con un buen puntaje crediticio generalmente tienen entre 2 y 5 cuentas bancarias, con una mediana cercana a 3.\n",
    "\n",
    "Aquellos con puntajes crediticios estándar tienen entre 4 y 7 cuentas.\n",
    "\n",
    "Las personas con puntajes crediticios bajos tienden a manejar entre 5 y 8 cuentas, con una mediana cercana a 7.\n",
    "\n",
    "Esta variación indica diferentes hábitos bancarios según las categorías de puntaje crediticio."
   ]
  },
  {
   "cell_type": "code",
   "execution_count": null,
   "metadata": {},
   "outputs": [],
   "source": [
    "# ocupación vs credit score\n",
    "credit_score_counts = bank_df.groupby(['Occupation', 'Credit_Score']).size().unstack(fill_value=0)\n",
    "fig,ax = plt.subplots(1,1,figsize = (18,10))\n",
    "\n",
    "credit_score_counts.plot(kind='barh', stacked=True, ax=ax)\n",
    "ax.set_xlabel(\"Count\")\n",
    "ax.set_ylabel(\"Occupation\")\n",
    "plt.legend(title='Credit Score')\n",
    "plt.tight_layout()\n",
    "plt.show()\n"
   ]
  },
  {
   "cell_type": "markdown",
   "metadata": {},
   "source": [
    "En general, la distribución entre ocupaciones no proporciona mucha información valiosa sobre el mercado laboral."
   ]
  },
  {
   "cell_type": "code",
   "execution_count": null,
   "metadata": {},
   "outputs": [],
   "source": [
    "# Relacion entre peticiones de prestamos y score crediticio\n",
    "\n",
    "inquiry_counts = bank_df.groupby(['Num_Credit_Inquiries', 'Credit_Score']).size().unstack(fill_value=0)\n",
    "fig, ax = plt.subplots(figsize=(18, 10))\n",
    "\n",
    "inquiry_counts.plot(kind='barh', stacked=True, ax=ax)\n",
    "ax.set_xlabel(\"Count\")\n",
    "ax.set_ylabel(\"Number of Credit Inquiries\")\n",
    "plt.legend(title='Credit Score')\n",
    "plt.tight_layout()\n",
    "plt.show()"
   ]
  },
  {
   "cell_type": "markdown",
   "metadata": {},
   "source": [
    "El gráfico proporcionado explora la relación entre el número de créditos que se han pedido y el score crediticio.\n",
    "\n",
    "Revela que, si bien un mayor número de crédios puede resultar en una puntuación crediticia más baja."
   ]
  },
  {
   "cell_type": "markdown",
   "metadata": {},
   "source": [
    "## Análisis Multivariado"
   ]
  },
  {
   "cell_type": "code",
   "execution_count": null,
   "metadata": {},
   "outputs": [],
   "source": [
    "# score crediticio por tipo de prestamo (dos variables categoricas)\n",
    "\n",
    "#top 10 de tipos de prestamos\n",
    "top_loan_types = bank_df[bank_df['Type_of_Loan']!=\"No Data\"]['Type_of_Loan'].value_counts().nlargest(10).index\n",
    "filtered_bank_df = bank_df[bank_df['Type_of_Loan'].isin(top_loan_types)]\n",
    "loan_credit_heatmap = filtered_bank_df.groupby(['Type_of_Loan', 'Credit_Score']).size().unstack(fill_value=0)\n",
    "fig, ax = plt.subplots(1, 1, figsize=(18, 10))\n",
    "sns.heatmap(loan_credit_heatmap, annot=True, fmt='d', cmap='Blues', ax=ax, cbar_kws={'label': 'Count'}, linewidths=0.5)\n",
    "plt.tight_layout()\n",
    "plt.show()"
   ]
  },
  {
   "cell_type": "markdown",
   "metadata": {},
   "source": [
    "Los préstamos para la pagar la escuela y los préstamos para el carro presentan una mayor proporción de solicitantes con baja puntuación crediticia, lo que sugiere que estos tipos de préstamos suelen ser solicitados por personas con dificultades financieras.\n"
   ]
  },
  {
   "cell_type": "code",
   "execution_count": null,
   "metadata": {},
   "outputs": [],
   "source": [
    "#correlaciones entre variables clave financieras\n",
    "corr_data = bank_df[['Age', 'Annual_Income', 'Monthly_Inhand_Salary', 'Num_Bank_Accounts', \n",
    "                     'Num_Credit_Card', 'Interest_Rate', 'Outstanding_Debt', \n",
    "                     'Credit_Utilization_Ratio', 'Credit_History_Age', \n",
    "                     'Total_EMI_per_month', 'Amount_invested_monthly', \n",
    "                     'Monthly_Balance']]\n",
    "\n",
    "fig,ax = plt.subplots(1,1,figsize = (12,8))\n",
    "corr_matrix = corr_data.corr()\n",
    "sns.heatmap(corr_matrix, annot=True, cmap='Blues', vmin=-1, vmax=1, linewidths=0.5, ax=ax, annot_kws={\"size\": 10})\n",
    "\n",
    "plt.tight_layout()\n",
    "plt.show()"
   ]
  },
  {
   "cell_type": "code",
   "execution_count": null,
   "metadata": {},
   "outputs": [],
   "source": [
    "#pairplot\n",
    "palette = {\n",
    "    'Good': '#0066ff',\n",
    "    'Standard': '#000000',\n",
    "    'Poor': '#FFFFFF'  \n",
    "}\n",
    "\n",
    "fig = sns.pairplot(bank_df[['Annual_Income', 'Monthly_Inhand_Salary', 'Outstanding_Debt', \n",
    "                              'Credit_Utilization_Ratio', 'Credit_History_Age', \n",
    "                              'Credit_Score']], \n",
    "                   hue='Credit_Score', \n",
    "                   palette=palette, \n",
    "                   diag_kind='kde', \n",
    "                   plot_kws={'alpha': 0.7})\n",
    "\n",
    "\n",
    "for ax in fig.axes.flatten():\n",
    "    ax.set_facecolor('#D3D3D3')  \n",
    "    ax.grid(axis='both', linestyle='-', alpha=0.4)  \n",
    "    ax.set_axisbelow(True)  \n",
    "\n",
    "\n",
    "fig.fig.suptitle('Credit Score Pair Plot', fontsize=18, fontweight='bold', fontfamily='serif')\n",
    "fig.fig.subplots_adjust(top=0.95)  \n",
    "\n",
    "plt.show()"
   ]
  },
  {
   "cell_type": "markdown",
   "metadata": {},
   "source": [
    "**Solución al Objetivo de Negocio**\n",
    "\n",
    "**¿Qué sugeriríamos para lograr el objetivo de Negocio?**\n",
    "\n",
    "- Implemente un modelo predictivo de calificación crediticia. Este modelo puede predecir con precisión las calificaciones crediticias individuales basándose en los datos del cliente\n",
    "\n",
    "- Personalizar las Recomendaciones de Productos Financieros.\n",
    "\n",
    "- Aumentar la Satisfacción del Cliente: Ofrecer asesoramiento financiero personalizado y recomendaciones de productos puede mejorar la confianza y la lealtad del cliente. "
   ]
  },
  {
   "cell_type": "markdown",
   "metadata": {},
   "source": [
    "**Conclusion del EDA**\n",
    "\n",
    "Entre los hallazgos clave vimos que:\n",
    "- La población activa está entre 25 a 45 años\n",
    "- Tenemos una distribución equilibrada de la puntuación crediticia con una proporción considerable de personas con puntuaciones crediticias bajas\n",
    "- Tenemos una gestión responsable del crédito entre los clientes (la mayoria paga en 30 dias)\n",
    "- Tenemos un mercado con tasas de interés muy variables\n",
    "\n",
    "Si queremos hacer un modelo vimos que es importante:\n",
    "- La edad\n",
    "- los ingresos\n",
    "- el historial de pagos en la puntuación crediticia\n"
   ]
  },
  {
   "cell_type": "markdown",
   "metadata": {},
   "source": [
    "## Bibliografía"
   ]
  },
  {
   "cell_type": "markdown",
   "metadata": {},
   "source": [
    "Limpieza de datos:\n",
    "- https://medium.com/@abhishiktadhar111/a-comprehensive-guide-to-data-cleaning-techniques-ebb2659c89a7\n",
    "- https://www.geeksforgeeks.org/data-analysis/data-cleansing-introduction/\n",
    "\n",
    "Analisis exploratorio de datos:\n",
    "- https://towardsdatascience.com/exploratory-data-analysis-is-a-significant-part-of-data-science-7f3b173c04d2\n",
    "- https://r4ds.had.co.nz/exploratory-data-analysis.html\n",
    "\n",
    "Datos Sesgados:\n",
    "- https://blog.gopenai.com/how-to-handle-skewed-data-a-guide-for-data-scientists-84187ba7f805"
   ]
  },
  {
   "cell_type": "markdown",
   "metadata": {},
   "source": [
    "![ChessUrl](https://miro.medium.com/max/400/1*z6-XWtRlCDKciBd3eS4PzQ.gif \"end\")"
   ]
  },
  {
   "cell_type": "markdown",
   "metadata": {},
   "source": [
    "<script>\n",
    "  $(document).ready(function(){\n",
    "    $('div.prompt').hide();\n",
    "    $('div.back-to-top').hide();\n",
    "    $('nav#menubar').hide();\n",
    "    $('.breadcrumb').hide();\n",
    "    $('.hidden-print').hide();\n",
    "  });\n",
    "</script>\n",
    "\n",
    "<footer id=\"attribution\" style=\"float:right; color:#808080; background:#fff;\">\n",
    "Created with Jupyter by Sara E. Rodríguez.\n",
    "</footer>"
   ]
  }
 ],
 "metadata": {
  "kernelspec": {
   "display_name": "Python 3 (ipykernel)",
   "language": "python",
   "name": "python3"
  },
  "language_info": {
   "codemirror_mode": {
    "name": "ipython",
    "version": 3
   },
   "file_extension": ".py",
   "mimetype": "text/x-python",
   "name": "python",
   "nbconvert_exporter": "python",
   "pygments_lexer": "ipython3",
   "version": "3.11.4"
  }
 },
 "nbformat": 4,
 "nbformat_minor": 4
}
